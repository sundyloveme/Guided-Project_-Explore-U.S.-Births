{
 "cells": [
  {
   "cell_type": "code",
   "execution_count": 4,
   "metadata": {},
   "outputs": [],
   "source": [
    "file = open(\"US_births_1994-2003_CDC_NCHS.csv\")\n",
    "usStr = file.read()"
   ]
  },
  {
   "cell_type": "code",
   "execution_count": 5,
   "metadata": {},
   "outputs": [
    {
     "name": "stdout",
     "output_type": "stream",
     "text": [
      "year,month\n"
     ]
    }
   ],
   "source": [
    "print(usStr[0:10])"
   ]
  },
  {
   "cell_type": "code",
   "execution_count": 6,
   "metadata": {},
   "outputs": [],
   "source": [
    "USList = usStr.split(\"\\n\")"
   ]
  },
  {
   "cell_type": "code",
   "execution_count": 7,
   "metadata": {},
   "outputs": [
    {
     "name": "stdout",
     "output_type": "stream",
     "text": [
      "['year,month,date_of_month,day_of_week,births', '1994,1,1,6,8096', '1994,1,2,7,7772', '1994,1,3,1,10142', '1994,1,4,2,11248', '1994,1,5,3,11053', '1994,1,6,4,11406', '1994,1,7,5,11251', '1994,1,8,6,8653', '1994,1,9,7,7910']\n"
     ]
    }
   ],
   "source": [
    "print(USList[0:10])"
   ]
  },
  {
   "cell_type": "code",
   "execution_count": 9,
   "metadata": {},
   "outputs": [
    {
     "name": "stdout",
     "output_type": "stream",
     "text": [
      "[[1994, 1, 1, 6, 8096], [1994, 1, 2, 7, 7772], [1994, 1, 3, 1, 10142], [1994, 1, 4, 2, 11248], [1994, 1, 5, 3, 11053]]\n"
     ]
    }
   ],
   "source": [
    "def read_csv(fileName):\n",
    "    final_list = []\n",
    "    int_fields = []\n",
    "    string_fields = []\n",
    "    \n",
    "    f = open(fileName)\n",
    "    s = f.read()\n",
    "    string_list = s.split(\"\\n\")\n",
    "\n",
    "    string_list = string_list[1:len(string_list)-1]\n",
    "    for s in string_list:\n",
    "        string_fields.append(s.split(\",\"))\n",
    "\n",
    "    for s_row in string_fields:\n",
    "        for c in s_row:\n",
    "            int_fields.append(int(c))\n",
    "        final_list.append(int_fields)\n",
    "        int_fields = []\n",
    "    return final_list\n",
    "USList = read_csv(\"US_births_1994-2003_CDC_NCHS.csv\")\n",
    "print(USList[0:5])"
   ]
  },
  {
   "cell_type": "code",
   "execution_count": 11,
   "metadata": {},
   "outputs": [
    {
     "name": "stdout",
     "output_type": "stream",
     "text": [
      "{1: 3232517, 2: 3018140, 3: 3322069, 4: 3185314, 5: 3350907, 6: 3296530, 7: 3498783, 8: 3525858, 9: 3439698, 10: 3378814, 11: 3171647, 12: 3289486}\n"
     ]
    }
   ],
   "source": [
    "def month_births(listOfList):\n",
    "    dic = {}\n",
    "    for l_row in listOfList:\n",
    "        if l_row[1] in dic:\n",
    "            dic[l_row[1]] += l_row[4]\n",
    "        else:\n",
    "            dic[l_row[1]] = l_row[4]\n",
    "    print(dic)\n",
    "month_births(USList)"
   ]
  },
  {
   "cell_type": "code",
   "execution_count": 12,
   "metadata": {},
   "outputs": [
    {
     "name": "stdout",
     "output_type": "stream",
     "text": [
      "{6: 4562111, 7: 4079723, 1: 5789166, 2: 6446196, 3: 6310481, 4: 6288429, 5: 6233657}\n"
     ]
    }
   ],
   "source": [
    "def dow_births(listOfList):\n",
    "    dic = {}\n",
    "    for row in listOfList:\n",
    "        if row[3] in dic:\n",
    "            dic[row[3]] += row[4]\n",
    "        else:\n",
    "            dic[row[3]] = row[4]\n",
    "    return dic\n",
    "dic = dow_births(USList)\n",
    "print(dic)"
   ]
  },
  {
   "cell_type": "code",
   "execution_count": null,
   "metadata": {},
   "outputs": [],
   "source": []
  }
 ],
 "metadata": {
  "anaconda-cloud": {},
  "kernelspec": {
   "display_name": "Python 3",
   "language": "python",
   "name": "python3"
  },
  "language_info": {
   "codemirror_mode": {
    "name": "ipython",
    "version": 3
   },
   "file_extension": ".py",
   "mimetype": "text/x-python",
   "name": "python",
   "nbconvert_exporter": "python",
   "pygments_lexer": "ipython3",
   "version": "3.6.4"
  }
 },
 "nbformat": 4,
 "nbformat_minor": 1
}
